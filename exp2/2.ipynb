{
 "cells": [
  {
   "cell_type": "code",
   "execution_count": 20,
   "metadata": {},
   "outputs": [],
   "source": [
    "import cv2\n",
    "import numpy as np"
   ]
  },
  {
   "cell_type": "code",
   "execution_count": 21,
   "metadata": {},
   "outputs": [],
   "source": [
    "image = cv2.imread('image.png')\n",
    "# 将图像转换为灰度图像\n",
    "gray_image = cv2.cvtColor(image, cv2.COLOR_BGR2GRAY)\n",
    "image_square = cv2.resize(gray_image, (720, 720))"
   ]
  },
  {
   "cell_type": "code",
   "execution_count": 22,
   "metadata": {},
   "outputs": [
    {
     "data": {
      "text/plain": [
       "array([[0, 0, 0, ..., 0, 0, 0],\n",
       "       [0, 0, 0, ..., 0, 0, 0],\n",
       "       [0, 0, 0, ..., 0, 0, 0],\n",
       "       ...,\n",
       "       [0, 0, 0, ..., 0, 0, 0],\n",
       "       [0, 0, 0, ..., 0, 0, 0],\n",
       "       [0, 0, 0, ..., 0, 0, 0]], dtype=uint8)"
      ]
     },
     "execution_count": 22,
     "metadata": {},
     "output_type": "execute_result"
    }
   ],
   "source": [
    "height, width = image_square.shape[:2]\n",
    "# 创建全黑掩膜 掩膜的遮蔽区域为黑色，非遮蔽区域为白色\n",
    "mask = np.zeros((height, width), dtype=np.uint8)\n",
    "# 在正方形掩膜上画圆形\n",
    "center = (width//2, height//2)\n",
    "radius = width//2\n",
    "cv2.circle(mask, center, radius, (255, 255, 255), -1)  # -1 表示实心\n"
   ]
  },
  {
   "cell_type": "code",
   "execution_count": 23,
   "metadata": {},
   "outputs": [],
   "source": [
    "# 掩膜与正方形图叠加\n",
    "# cv2.add 进行加法运算，对被掩模图像遮蔽的黑色区域不进行处理，保持黑色，非黑色区域进行加法运算\n",
    "imgAddMask = cv2.add(image_square, np.zeros(np.shape(image_square), dtype=np.uint8), mask=mask)"
   ]
  },
  {
   "cell_type": "code",
   "execution_count": 25,
   "metadata": {},
   "outputs": [],
   "source": [
    "cv2.imshow('square', image_square)\n",
    "cv2.imshow('mask', imgAddMask)\n",
    "cv2.imshow(\"origin\", image)\n",
    "cv2.waitKey(0)\n",
    "cv2.destroyAllWindows()"
   ]
  }
 ],
 "metadata": {
  "kernelspec": {
   "display_name": "pytorch",
   "language": "python",
   "name": "python3"
  },
  "language_info": {
   "codemirror_mode": {
    "name": "ipython",
    "version": 3
   },
   "file_extension": ".py",
   "mimetype": "text/x-python",
   "name": "python",
   "nbconvert_exporter": "python",
   "pygments_lexer": "ipython3",
   "version": "3.8.13"
  }
 },
 "nbformat": 4,
 "nbformat_minor": 2
}
